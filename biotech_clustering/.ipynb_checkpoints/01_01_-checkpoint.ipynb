{
 "cells": [
  {
   "cell_type": "code",
   "execution_count": 1,
   "metadata": {
    "collapsed": true
   },
   "outputs": [],
   "source": [
    "import pandas as pd\n",
    "import numpy as np\n",
    "import matplotlib.pyplot as plt\n",
    "import re\n",
    "import nltk\n",
    "from nltk import PorterStemmer\n",
    "from nltk.tokenize import word_tokenize\n",
    "from nltk.corpus import stopwords\n",
    "\n",
    "%matplotlib inline"
   ]
  },
  {
   "cell_type": "code",
   "execution_count": 2,
   "metadata": {
    "collapsed": true
   },
   "outputs": [],
   "source": [
    "data = pd.read_csv('iShares_IBB_descriptions.csv')\n",
    "data= data.rename(columns={'Unnamed: 0': 'Ticker'})"
   ]
  },
  {
   "cell_type": "code",
   "execution_count": 3,
   "metadata": {},
   "outputs": [
    {
     "data": {
      "text/html": [
       "<div>\n",
       "<style>\n",
       "    .dataframe thead tr:only-child th {\n",
       "        text-align: right;\n",
       "    }\n",
       "\n",
       "    .dataframe thead th {\n",
       "        text-align: left;\n",
       "    }\n",
       "\n",
       "    .dataframe tbody tr th {\n",
       "        vertical-align: top;\n",
       "    }\n",
       "</style>\n",
       "<table border=\"1\" class=\"dataframe\">\n",
       "  <thead>\n",
       "    <tr style=\"text-align: right;\">\n",
       "      <th></th>\n",
       "      <th>Ticker</th>\n",
       "      <th>Name</th>\n",
       "      <th>url</th>\n",
       "      <th>Sector</th>\n",
       "      <th>Industry</th>\n",
       "      <th>Employees</th>\n",
       "      <th>Description</th>\n",
       "      <th>Executive1</th>\n",
       "      <th>Executive2</th>\n",
       "      <th>Executive3</th>\n",
       "      <th>Executive4</th>\n",
       "      <th>Executive5</th>\n",
       "    </tr>\n",
       "  </thead>\n",
       "  <tbody>\n",
       "    <tr>\n",
       "      <th>0</th>\n",
       "      <td>ABUS</td>\n",
       "      <td>Arbutus Biopharma Corporation</td>\n",
       "      <td>http://www.tekmirapharm.com</td>\n",
       "      <td>Healthcare</td>\n",
       "      <td>Biotechnology</td>\n",
       "      <td>122</td>\n",
       "      <td>Arbutus Biopharma Corporation, a biopharmaceut...</td>\n",
       "      <td>{'name': 'Dr. Mark Joseph Murray Ph.D.', 'titl...</td>\n",
       "      <td>{'name': 'Mr. Bruce G. Cousins C.A., CPA', 'ti...</td>\n",
       "      <td>{'name': 'Dr. Peter  Lutwyche Ph.D.', 'title':...</td>\n",
       "      <td>{'name': 'Dr. Michael J. Sofia Ph.D.', 'title'...</td>\n",
       "      <td>{'name': 'Dr. Elizabeth  Howard Ph.D., J.D.', ...</td>\n",
       "    </tr>\n",
       "    <tr>\n",
       "      <th>1</th>\n",
       "      <td>ACAD</td>\n",
       "      <td>ACADIA Pharmaceuticals Inc.</td>\n",
       "      <td>http://www.acadia-pharm.com</td>\n",
       "      <td>NaN</td>\n",
       "      <td>NaN</td>\n",
       "      <td>NaN</td>\n",
       "      <td>ACADIA Pharmaceuticals Inc., a biopharmaceutic...</td>\n",
       "      <td>{'name': 'Mr. Stephen R. Davis J.D.', 'title':...</td>\n",
       "      <td>{'name': 'Mr. Todd S. Young', 'title': 'Chief ...</td>\n",
       "      <td>{'name': 'Mr. Glenn F. Baity', 'title': 'Exec....</td>\n",
       "      <td>{'name': 'Dr. Srdjan R. Stankovic M.D., M.S.P....</td>\n",
       "      <td>{'name': 'Mr. James A. Nash', 'title': 'Sr. VP...</td>\n",
       "    </tr>\n",
       "    <tr>\n",
       "      <th>2</th>\n",
       "      <td>ACHN</td>\n",
       "      <td>Achillion Pharmaceuticals, Inc.</td>\n",
       "      <td>http://www.achillion.com</td>\n",
       "      <td>Healthcare</td>\n",
       "      <td>Biotechnology</td>\n",
       "      <td>81</td>\n",
       "      <td>Achillion Pharmaceuticals, Inc., a biopharmace...</td>\n",
       "      <td>{'name': 'Dr. Milind S. Deshpande Ph.D.', 'tit...</td>\n",
       "      <td>{'name': 'Ms. Mary Kay Fenton', 'title': 'Chie...</td>\n",
       "      <td>{'name': 'Mr. Joseph  Truitt', 'title': 'Chief...</td>\n",
       "      <td>{'name': 'Dr. David  Apelian', 'title': 'Forme...</td>\n",
       "      <td>{'name': 'Glenn  Schulman', 'title': 'Exec. Di...</td>\n",
       "    </tr>\n",
       "  </tbody>\n",
       "</table>\n",
       "</div>"
      ],
      "text/plain": [
       "  Ticker                             Name                          url  \\\n",
       "0   ABUS    Arbutus Biopharma Corporation  http://www.tekmirapharm.com   \n",
       "1   ACAD      ACADIA Pharmaceuticals Inc.  http://www.acadia-pharm.com   \n",
       "2   ACHN  Achillion Pharmaceuticals, Inc.     http://www.achillion.com   \n",
       "\n",
       "       Sector       Industry Employees  \\\n",
       "0  Healthcare  Biotechnology       122   \n",
       "1         NaN            NaN       NaN   \n",
       "2  Healthcare  Biotechnology        81   \n",
       "\n",
       "                                         Description  \\\n",
       "0  Arbutus Biopharma Corporation, a biopharmaceut...   \n",
       "1  ACADIA Pharmaceuticals Inc., a biopharmaceutic...   \n",
       "2  Achillion Pharmaceuticals, Inc., a biopharmace...   \n",
       "\n",
       "                                          Executive1  \\\n",
       "0  {'name': 'Dr. Mark Joseph Murray Ph.D.', 'titl...   \n",
       "1  {'name': 'Mr. Stephen R. Davis J.D.', 'title':...   \n",
       "2  {'name': 'Dr. Milind S. Deshpande Ph.D.', 'tit...   \n",
       "\n",
       "                                          Executive2  \\\n",
       "0  {'name': 'Mr. Bruce G. Cousins C.A., CPA', 'ti...   \n",
       "1  {'name': 'Mr. Todd S. Young', 'title': 'Chief ...   \n",
       "2  {'name': 'Ms. Mary Kay Fenton', 'title': 'Chie...   \n",
       "\n",
       "                                          Executive3  \\\n",
       "0  {'name': 'Dr. Peter  Lutwyche Ph.D.', 'title':...   \n",
       "1  {'name': 'Mr. Glenn F. Baity', 'title': 'Exec....   \n",
       "2  {'name': 'Mr. Joseph  Truitt', 'title': 'Chief...   \n",
       "\n",
       "                                          Executive4  \\\n",
       "0  {'name': 'Dr. Michael J. Sofia Ph.D.', 'title'...   \n",
       "1  {'name': 'Dr. Srdjan R. Stankovic M.D., M.S.P....   \n",
       "2  {'name': 'Dr. David  Apelian', 'title': 'Forme...   \n",
       "\n",
       "                                          Executive5  \n",
       "0  {'name': 'Dr. Elizabeth  Howard Ph.D., J.D.', ...  \n",
       "1  {'name': 'Mr. James A. Nash', 'title': 'Sr. VP...  \n",
       "2  {'name': 'Glenn  Schulman', 'title': 'Exec. Di...  "
      ]
     },
     "execution_count": 3,
     "metadata": {},
     "output_type": "execute_result"
    }
   ],
   "source": [
    "data.head(3)"
   ]
  },
  {
   "cell_type": "code",
   "execution_count": 4,
   "metadata": {
    "collapsed": true
   },
   "outputs": [],
   "source": [
    "def tokenize_text(txt):\n",
    "    stop_words = set(stopwords.words('english'))\n",
    "    try:\n",
    "        tokens_tmp = np.array(word_tokenize(txt))\n",
    "        tokens = [w.strip() for w in tokens_tmp \n",
    "                  if w.isalpha()\n",
    "                  if not w in stop_words]\n",
    "    except:\n",
    "        tokens = None\n",
    "    return tokens"
   ]
  },
  {
   "cell_type": "code",
   "execution_count": 5,
   "metadata": {},
   "outputs": [
    {
     "name": "stderr",
     "output_type": "stream",
     "text": [
      "/Library/Frameworks/Python.framework/Versions/3.6/lib/python3.6/site-packages/ipykernel_launcher.py:2: SettingWithCopyWarning: \n",
      "A value is trying to be set on a copy of a slice from a DataFrame.\n",
      "Try using .loc[row_indexer,col_indexer] = value instead\n",
      "\n",
      "See the caveats in the documentation: http://pandas.pydata.org/pandas-docs/stable/indexing.html#indexing-view-versus-copy\n",
      "  \n"
     ]
    }
   ],
   "source": [
    "tokenized_description = data[['Ticker', 'Description']]\n",
    "tokenized_description['tokens'] = tokenized_description['Description']\\\n",
    "                                        .apply(lambda x: tokenize_text(x))"
   ]
  },
  {
   "cell_type": "code",
   "execution_count": 8,
   "metadata": {},
   "outputs": [
    {
     "data": {
      "text/html": [
       "<div>\n",
       "<style>\n",
       "    .dataframe thead tr:only-child th {\n",
       "        text-align: right;\n",
       "    }\n",
       "\n",
       "    .dataframe thead th {\n",
       "        text-align: left;\n",
       "    }\n",
       "\n",
       "    .dataframe tbody tr th {\n",
       "        vertical-align: top;\n",
       "    }\n",
       "</style>\n",
       "<table border=\"1\" class=\"dataframe\">\n",
       "  <thead>\n",
       "    <tr style=\"text-align: right;\">\n",
       "      <th></th>\n",
       "      <th>Ticker</th>\n",
       "      <th>Description</th>\n",
       "      <th>tokens</th>\n",
       "    </tr>\n",
       "  </thead>\n",
       "  <tbody>\n",
       "    <tr>\n",
       "      <th>0</th>\n",
       "      <td>ABUS</td>\n",
       "      <td>Arbutus Biopharma Corporation, a biopharmaceut...</td>\n",
       "      <td>[Arbutus, Biopharma, Corporation, biopharmaceu...</td>\n",
       "    </tr>\n",
       "    <tr>\n",
       "      <th>1</th>\n",
       "      <td>ACAD</td>\n",
       "      <td>ACADIA Pharmaceuticals Inc., a biopharmaceutic...</td>\n",
       "      <td>[ACADIA, Pharmaceuticals, biopharmaceutical, c...</td>\n",
       "    </tr>\n",
       "    <tr>\n",
       "      <th>2</th>\n",
       "      <td>ACHN</td>\n",
       "      <td>Achillion Pharmaceuticals, Inc., a biopharmace...</td>\n",
       "      <td>[Achillion, Pharmaceuticals, biopharmaceutical...</td>\n",
       "    </tr>\n",
       "    <tr>\n",
       "      <th>3</th>\n",
       "      <td>ACOR</td>\n",
       "      <td>Acorda Therapeutics, Inc., a biopharmaceutical...</td>\n",
       "      <td>[Acorda, Therapeutics, biopharmaceutical, comp...</td>\n",
       "    </tr>\n",
       "    <tr>\n",
       "      <th>4</th>\n",
       "      <td>ACRS</td>\n",
       "      <td>Aclaris Therapeutics, Inc., a clinical-stage b...</td>\n",
       "      <td>[Aclaris, Therapeutics, biotechnology, company...</td>\n",
       "    </tr>\n",
       "  </tbody>\n",
       "</table>\n",
       "</div>"
      ],
      "text/plain": [
       "  Ticker                                        Description  \\\n",
       "0   ABUS  Arbutus Biopharma Corporation, a biopharmaceut...   \n",
       "1   ACAD  ACADIA Pharmaceuticals Inc., a biopharmaceutic...   \n",
       "2   ACHN  Achillion Pharmaceuticals, Inc., a biopharmace...   \n",
       "3   ACOR  Acorda Therapeutics, Inc., a biopharmaceutical...   \n",
       "4   ACRS  Aclaris Therapeutics, Inc., a clinical-stage b...   \n",
       "\n",
       "                                              tokens  \n",
       "0  [Arbutus, Biopharma, Corporation, biopharmaceu...  \n",
       "1  [ACADIA, Pharmaceuticals, biopharmaceutical, c...  \n",
       "2  [Achillion, Pharmaceuticals, biopharmaceutical...  \n",
       "3  [Acorda, Therapeutics, biopharmaceutical, comp...  \n",
       "4  [Aclaris, Therapeutics, biotechnology, company...  "
      ]
     },
     "execution_count": 8,
     "metadata": {},
     "output_type": "execute_result"
    }
   ],
   "source": [
    "tokenized_description.head()"
   ]
  },
  {
   "cell_type": "markdown",
   "metadata": {},
   "source": [
    "### Count number of companies whose description mentions some keyword"
   ]
  },
  {
   "cell_type": "code",
   "execution_count": 19,
   "metadata": {
    "collapsed": true
   },
   "outputs": [],
   "source": [
    "def has_keyword(keyword, tokens):\n",
    "    if tokens is not None:\n",
    "        immuno = [token for token in tokens\n",
    "                  if keyword in token.lower()]\n",
    "        if len(immuno) > 0:\n",
    "            return True\n",
    "        else:\n",
    "            return False\n",
    "    else:\n",
    "        return False"
   ]
  },
  {
   "cell_type": "code",
   "execution_count": 26,
   "metadata": {
    "scrolled": true
   },
   "outputs": [
    {
     "name": "stdout",
     "output_type": "stream",
     "text": [
      "Among 200 companies in the list...\n",
      "38 companies mention 'immuno-'\n",
      "35 companies mention 'neuro-'\n",
      "4 companies mention 'alzheimer'\n",
      "5 companies mention 'parkinson'\n",
      "36 companies mention 'onco-'\n",
      "83 companies mention 'cancer'\n",
      "13 companies mention 'metabol-'\n",
      "9 companies mention 'biological'\n"
     ]
    }
   ],
   "source": [
    "num_immuno_companies = tokenized_description['tokens'].apply(lambda x: has_keyword('immuno',x)).sum()\n",
    "num_neuro_companies = tokenized_description['tokens'].apply(lambda x: has_keyword('neuro',x)).sum()\n",
    "num_altz_companies = tokenized_description['tokens'].apply(lambda x: has_keyword('alzheimer',x)).sum()\n",
    "num_parkinson_companies = tokenized_description['tokens'].apply(lambda x: has_keyword('parkinson',x)).sum()\n",
    "num_onco_companies = tokenized_description['tokens'].apply(lambda x: has_keyword('onco',x)).sum()\n",
    "num_cancer_companies = tokenized_description['tokens'].apply(lambda x: has_keyword('cancer',x)).sum()\n",
    "num_metabol_companies = tokenized_description['tokens'].apply(lambda x: has_keyword('metabol',x)).sum()\n",
    "num_biological_companies = tokenized_description['tokens'].apply(lambda x: has_keyword('biological',x)).sum()\n",
    "\n",
    "print(\"Among %d companies in the list...\" % len(tokenized_description))\n",
    "print(\"%d companies mention 'immuno-'\" % num_immuno_companies)\n",
    "print(\"%d companies mention 'neuro-'\" % num_neuro_companies)\n",
    "print(\"%d companies mention 'alzheimer'\" % num_altz_companies)\n",
    "print(\"%d companies mention 'parkinson'\" % num_parkinson_companies)\n",
    "print(\"%d companies mention 'onco-'\" % num_onco_companies)\n",
    "print(\"%d companies mention 'cancer'\" % num_cancer_companies)\n",
    "print(\"%d companies mention 'metabol-'\" % num_metabol_companies)\n",
    "print(\"%d companies mention 'biological'\" % num_biological_companies)\n"
   ]
  },
  {
   "cell_type": "code",
   "execution_count": null,
   "metadata": {
    "collapsed": true
   },
   "outputs": [],
   "source": []
  },
  {
   "cell_type": "code",
   "execution_count": null,
   "metadata": {
    "collapsed": true
   },
   "outputs": [],
   "source": []
  },
  {
   "cell_type": "code",
   "execution_count": null,
   "metadata": {
    "collapsed": true
   },
   "outputs": [],
   "source": []
  },
  {
   "cell_type": "code",
   "execution_count": null,
   "metadata": {
    "collapsed": true
   },
   "outputs": [],
   "source": []
  },
  {
   "cell_type": "code",
   "execution_count": null,
   "metadata": {
    "collapsed": true
   },
   "outputs": [],
   "source": []
  },
  {
   "cell_type": "code",
   "execution_count": null,
   "metadata": {
    "collapsed": true
   },
   "outputs": [],
   "source": []
  },
  {
   "cell_type": "code",
   "execution_count": null,
   "metadata": {
    "collapsed": true
   },
   "outputs": [],
   "source": []
  },
  {
   "cell_type": "code",
   "execution_count": null,
   "metadata": {
    "collapsed": true
   },
   "outputs": [],
   "source": []
  }
 ],
 "metadata": {
  "kernelspec": {
   "display_name": "Python 3",
   "language": "python",
   "name": "python3"
  },
  "language_info": {
   "codemirror_mode": {
    "name": "ipython",
    "version": 3
   },
   "file_extension": ".py",
   "mimetype": "text/x-python",
   "name": "python",
   "nbconvert_exporter": "python",
   "pygments_lexer": "ipython3",
   "version": "3.6.1"
  }
 },
 "nbformat": 4,
 "nbformat_minor": 2
}

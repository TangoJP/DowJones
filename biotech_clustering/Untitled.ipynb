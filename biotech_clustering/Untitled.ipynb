{
 "cells": [
  {
   "cell_type": "code",
   "execution_count": 89,
   "metadata": {
    "collapsed": true
   },
   "outputs": [],
   "source": [
    "import pandas as pd\n",
    "import numpy as np\n",
    "import requests\n",
    "import os\n",
    "import scraper as scpr\n",
    "from bs4 import BeautifulSoup\n",
    "#from scraper import CompanyDescriptionScraper\n",
    "from importlib import reload"
   ]
  },
  {
   "cell_type": "code",
   "execution_count": null,
   "metadata": {
    "collapsed": true
   },
   "outputs": [],
   "source": []
  },
  {
   "cell_type": "code",
   "execution_count": null,
   "metadata": {
    "collapsed": true
   },
   "outputs": [],
   "source": []
  },
  {
   "cell_type": "code",
   "execution_count": 67,
   "metadata": {
    "collapsed": true
   },
   "outputs": [],
   "source": [
    "url1 = \"https://finance.yahoo.com/quote/INTC/profile\"\n",
    "url2 = \"https://finance.yahoo.com/quote/NJR/profile?p=NJR\"\n",
    "r1 = requests.get(url1)\n",
    "r2 = requests.get(url2)\n",
    "\n",
    "soup1 = BeautifulSoup(r1.text, \"html.parser\")\n",
    "soup2 = BeautifulSoup(r2.text, \"html.parser\")"
   ]
  },
  {
   "cell_type": "code",
   "execution_count": 136,
   "metadata": {},
   "outputs": [
    {
     "data": {
      "text/plain": [
       "[<tr class=\"C(black) BdB Bdc($finLightGray) H(36px)\" data-reactid=\"51\"><td class=\"Ta(start)\" data-reactid=\"52\">Mr. Andy D. Bryant</td><td class=\"Ta(start) W(45%)\" data-reactid=\"53\">Exec. Chairman</td><td class=\"Ta(end)\" data-reactid=\"54\">1.95M</td><td class=\"Ta(end)\" data-reactid=\"55\">6.72M</td><td class=\"Ta(end)\" data-reactid=\"56\">67</td></tr>,\n",
       " <tr class=\"C(black) BdB Bdc($finLightGray) H(36px)\" data-reactid=\"57\"><td class=\"Ta(start)\" data-reactid=\"58\">Mr. Brian M. Krzanich</td><td class=\"Ta(start) W(45%)\" data-reactid=\"59\">CEO &amp; Director</td><td class=\"Ta(end)\" data-reactid=\"60\">7.37M</td><td class=\"Ta(end)\" data-reactid=\"61\">2.47M</td><td class=\"Ta(end)\" data-reactid=\"62\">57</td></tr>,\n",
       " <tr class=\"C(black) BdB Bdc($finLightGray) H(36px)\" data-reactid=\"63\"><td class=\"Ta(start)\" data-reactid=\"64\">Mr. Robert H. Swan</td><td class=\"Ta(start) W(45%)\" data-reactid=\"65\">Exec. VP &amp; CFO</td><td class=\"Ta(end)\" data-reactid=\"66\">3.27M</td><td class=\"Ta(end)\" data-reactid=\"67\"><span data-reactid=\"68\">N/A</span></td><td class=\"Ta(end)\" data-reactid=\"69\">57</td></tr>,\n",
       " <tr class=\"C(black) BdB Bdc($finLightGray) H(36px)\" data-reactid=\"70\"><td class=\"Ta(start)\" data-reactid=\"71\">Mr. Stacy J. Smith</td><td class=\"Ta(start) W(45%)\" data-reactid=\"72\">Group Pres of Manufacturing, Operations and Sales</td><td class=\"Ta(end)\" data-reactid=\"73\">3.18M</td><td class=\"Ta(end)\" data-reactid=\"74\">238.9k</td><td class=\"Ta(end)\" data-reactid=\"75\">54</td></tr>,\n",
       " <tr class=\"C(black) BdB Bdc($finLightGray) H(36px)\" data-reactid=\"76\"><td class=\"Ta(start)\" data-reactid=\"77\">Mr. Gregory R. Pearson</td><td class=\"Ta(start) W(45%)\" data-reactid=\"78\">Sr. VP</td><td class=\"Ta(end)\" data-reactid=\"79\">1.32M</td><td class=\"Ta(end)\" data-reactid=\"80\">3.42M</td><td class=\"Ta(end)\" data-reactid=\"81\">56</td></tr>]"
      ]
     },
     "execution_count": 136,
     "metadata": {},
     "output_type": "execute_result"
    }
   ],
   "source": [
    "a = soup1.find('tbody')\n",
    "a1 = a.find_all('tr')[:5]\n",
    "a1"
   ]
  },
  {
   "cell_type": "code",
   "execution_count": 139,
   "metadata": {},
   "outputs": [
    {
     "name": "stdout",
     "output_type": "stream",
     "text": [
      "Mr. Andy D. Bryant\n",
      "Exec. Chairman\n",
      "1.95M\n",
      "6.72M\n",
      "67\n",
      "Mr. Brian M. Krzanich\n",
      "CEO & Director\n",
      "7.37M\n",
      "2.47M\n",
      "57\n",
      "Mr. Robert H. Swan\n",
      "Exec. VP & CFO\n",
      "3.27M\n",
      "N/A\n",
      "57\n",
      "Mr. Stacy J. Smith\n",
      "Group Pres of Manufacturing, Operations and Sales\n",
      "3.18M\n",
      "238.9k\n",
      "54\n",
      "Mr. Gregory R. Pearson\n",
      "Sr. VP\n",
      "1.32M\n",
      "3.42M\n",
      "56\n"
     ]
    }
   ],
   "source": [
    "for tr in a1:\n",
    "    tds = tr.find_all('td')\n",
    "    for td in tds:\n",
    "        print(td.text)"
   ]
  },
  {
   "cell_type": "code",
   "execution_count": null,
   "metadata": {
    "collapsed": true
   },
   "outputs": [],
   "source": []
  },
  {
   "cell_type": "code",
   "execution_count": 140,
   "metadata": {},
   "outputs": [
    {
     "name": "stdout",
     "output_type": "stream",
     "text": [
      "Mr. Laurence M. Downes\n",
      "Chairman, CEO & Pres\n",
      "2.07M\n",
      "N/A\n",
      "60\n",
      "Mr. Patrick J. Migliaccio\n",
      "Sr. VP, CFO & Principal Accounting Officer\n",
      "471.57k\n",
      "N/A\n",
      "43\n",
      "Mr. Stephen D. Westhoven\n",
      "Exec. VP & COO\n",
      "720.97k\n",
      "N/A\n",
      "49\n",
      "Mr. Glenn C. Lockwood\n",
      "Exec. VP\n",
      "671.66k\n",
      "N/A\n",
      "56\n",
      "Ms. Kathleen T. Ellis\n",
      "Exec. VP of Policy & Strategic Devel.\n",
      "631.27k\n",
      "N/A\n",
      "64\n"
     ]
    }
   ],
   "source": [
    "b = soup2.find('tbody')\n",
    "b1 = b.find_all('tr')[:5]\n",
    "\n",
    "for tr in b1:\n",
    "    tds = tr.find_all('td')\n",
    "    for td in tds:\n",
    "        print(td.text)"
   ]
  },
  {
   "cell_type": "code",
   "execution_count": null,
   "metadata": {
    "collapsed": true
   },
   "outputs": [],
   "source": []
  },
  {
   "cell_type": "code",
   "execution_count": null,
   "metadata": {
    "collapsed": true
   },
   "outputs": [],
   "source": []
  },
  {
   "cell_type": "code",
   "execution_count": null,
   "metadata": {
    "collapsed": true
   },
   "outputs": [],
   "source": []
  },
  {
   "cell_type": "code",
   "execution_count": 147,
   "metadata": {},
   "outputs": [
    {
     "data": {
      "text/plain": [
       "<module 'scraper' from '/Users/ryohayama/python/StockAnalysis/biotech_clustering/scraper.py'>"
      ]
     },
     "execution_count": 147,
     "metadata": {},
     "output_type": "execute_result"
    }
   ],
   "source": [
    "reload(scpr)"
   ]
  },
  {
   "cell_type": "code",
   "execution_count": 148,
   "metadata": {},
   "outputs": [
    {
     "name": "stdout",
     "output_type": "stream",
     "text": [
      "Scraping information on INTC...\n",
      "Scraping information on JNJ...\n"
     ]
    }
   ],
   "source": [
    "scraper = scpr.CompanyDescriptionScraper()\n",
    "tickers = ['INTC', 'JNJ']\n",
    "\n",
    "scraper.scrape(*tickers)"
   ]
  },
  {
   "cell_type": "code",
   "execution_count": 149,
   "metadata": {},
   "outputs": [
    {
     "data": {
      "text/html": [
       "<div>\n",
       "<style>\n",
       "    .dataframe thead tr:only-child th {\n",
       "        text-align: right;\n",
       "    }\n",
       "\n",
       "    .dataframe thead th {\n",
       "        text-align: left;\n",
       "    }\n",
       "\n",
       "    .dataframe tbody tr th {\n",
       "        vertical-align: top;\n",
       "    }\n",
       "</style>\n",
       "<table border=\"1\" class=\"dataframe\">\n",
       "  <thead>\n",
       "    <tr style=\"text-align: right;\">\n",
       "      <th></th>\n",
       "      <th>Name</th>\n",
       "      <th>url</th>\n",
       "      <th>Sector</th>\n",
       "      <th>Industry</th>\n",
       "      <th>Employees</th>\n",
       "      <th>Description</th>\n",
       "      <th>Executive1</th>\n",
       "      <th>Executive2</th>\n",
       "      <th>Executive3</th>\n",
       "      <th>Executive4</th>\n",
       "      <th>Executive5</th>\n",
       "    </tr>\n",
       "  </thead>\n",
       "  <tbody>\n",
       "    <tr>\n",
       "      <th>INTC</th>\n",
       "      <td>Intel Corporation</td>\n",
       "      <td>http://www.intel.com</td>\n",
       "      <td>Technology</td>\n",
       "      <td>Semiconductor - Broad Line</td>\n",
       "      <td>106,000</td>\n",
       "      <td>Intel Corporation designs, manufactures, and s...</td>\n",
       "      <td>{'name': 'Mr. Andy D. Bryant', 'title': 'Exec....</td>\n",
       "      <td>{'name': 'Mr. Brian M. Krzanich', 'title': 'CE...</td>\n",
       "      <td>{'name': 'Mr. Robert H. Swan', 'title': 'Exec....</td>\n",
       "      <td>{'name': 'Mr. Stacy J. Smith', 'title': 'Group...</td>\n",
       "      <td>{'name': 'Mr. Gregory R. Pearson', 'title': 'S...</td>\n",
       "    </tr>\n",
       "    <tr>\n",
       "      <th>JNJ</th>\n",
       "      <td>Johnson &amp; Johnson</td>\n",
       "      <td>http://www.jnj.com</td>\n",
       "      <td>Healthcare</td>\n",
       "      <td>Drug Manufacturers - Major</td>\n",
       "      <td>126,400</td>\n",
       "      <td>Johnson &amp; Johnson, together with its subsidiar...</td>\n",
       "      <td>{'name': 'Mr. Alex  Gorsky', 'title': 'Chairma...</td>\n",
       "      <td>{'name': 'Mr. Dominic J. Caruso', 'title': 'Ex...</td>\n",
       "      <td>{'name': 'Dr. Paulus A. Stoffels Ph.D., M.D.',...</td>\n",
       "      <td>{'name': 'Mr. Joaquin  Duato', 'title': 'Exec....</td>\n",
       "      <td>{'name': 'Ms. Sandra E. Peterson', 'title': 'G...</td>\n",
       "    </tr>\n",
       "  </tbody>\n",
       "</table>\n",
       "</div>"
      ],
      "text/plain": [
       "                   Name                   url      Sector  \\\n",
       "INTC  Intel Corporation  http://www.intel.com  Technology   \n",
       "JNJ   Johnson & Johnson    http://www.jnj.com  Healthcare   \n",
       "\n",
       "                        Industry Employees  \\\n",
       "INTC  Semiconductor - Broad Line   106,000   \n",
       "JNJ   Drug Manufacturers - Major   126,400   \n",
       "\n",
       "                                            Description  \\\n",
       "INTC  Intel Corporation designs, manufactures, and s...   \n",
       "JNJ   Johnson & Johnson, together with its subsidiar...   \n",
       "\n",
       "                                             Executive1  \\\n",
       "INTC  {'name': 'Mr. Andy D. Bryant', 'title': 'Exec....   \n",
       "JNJ   {'name': 'Mr. Alex  Gorsky', 'title': 'Chairma...   \n",
       "\n",
       "                                             Executive2  \\\n",
       "INTC  {'name': 'Mr. Brian M. Krzanich', 'title': 'CE...   \n",
       "JNJ   {'name': 'Mr. Dominic J. Caruso', 'title': 'Ex...   \n",
       "\n",
       "                                             Executive3  \\\n",
       "INTC  {'name': 'Mr. Robert H. Swan', 'title': 'Exec....   \n",
       "JNJ   {'name': 'Dr. Paulus A. Stoffels Ph.D., M.D.',...   \n",
       "\n",
       "                                             Executive4  \\\n",
       "INTC  {'name': 'Mr. Stacy J. Smith', 'title': 'Group...   \n",
       "JNJ   {'name': 'Mr. Joaquin  Duato', 'title': 'Exec....   \n",
       "\n",
       "                                             Executive5  \n",
       "INTC  {'name': 'Mr. Gregory R. Pearson', 'title': 'S...  \n",
       "JNJ   {'name': 'Ms. Sandra E. Peterson', 'title': 'G...  "
      ]
     },
     "execution_count": 149,
     "metadata": {},
     "output_type": "execute_result"
    }
   ],
   "source": [
    "scraper.data"
   ]
  },
  {
   "cell_type": "code",
   "execution_count": null,
   "metadata": {
    "collapsed": true
   },
   "outputs": [],
   "source": []
  },
  {
   "cell_type": "code",
   "execution_count": null,
   "metadata": {
    "collapsed": true
   },
   "outputs": [],
   "source": []
  },
  {
   "cell_type": "code",
   "execution_count": null,
   "metadata": {
    "collapsed": true
   },
   "outputs": [],
   "source": []
  },
  {
   "cell_type": "code",
   "execution_count": null,
   "metadata": {
    "collapsed": true
   },
   "outputs": [],
   "source": []
  },
  {
   "cell_type": "code",
   "execution_count": null,
   "metadata": {
    "collapsed": true
   },
   "outputs": [],
   "source": []
  },
  {
   "cell_type": "code",
   "execution_count": null,
   "metadata": {
    "collapsed": true
   },
   "outputs": [],
   "source": []
  }
 ],
 "metadata": {
  "kernelspec": {
   "display_name": "Python 3",
   "language": "python",
   "name": "python3"
  },
  "language_info": {
   "codemirror_mode": {
    "name": "ipython",
    "version": 3
   },
   "file_extension": ".py",
   "mimetype": "text/x-python",
   "name": "python",
   "nbconvert_exporter": "python",
   "pygments_lexer": "ipython3",
   "version": "3.6.1"
  }
 },
 "nbformat": 4,
 "nbformat_minor": 2
}
